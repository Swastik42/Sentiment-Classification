{
  "nbformat": 4,
  "nbformat_minor": 0,
  "metadata": {
    "colab": {
      "provenance": [],
      "collapsed_sections": []
    },
    "kernelspec": {
      "name": "python3",
      "display_name": "Python 3"
    },
    "language_info": {
      "name": "python"
    },
    "accelerator": "GPU"
  },
  "cells": [
    {
      "cell_type": "code",
      "metadata": {
        "id": "cXxpeQmFriDx"
      },
      "source": [
        "import pandas as pd \n",
        "import numpy as np \n",
        "import re\n",
        "import tensorflow as tf\n",
        "from tensorflow.keras.preprocessing.text import one_hot\n",
        "from tensorflow.keras.preprocessing.sequence import pad_sequences\n",
        "from tensorflow.keras import Model,Sequential\n",
        "from tensorflow.keras.layers import Dropout,Dense,Flatten,Embedding,LSTM\n",
        "from sklearn.model_selection import train_test_split\n",
        "from tensorflow.keras.preprocessing.text import Tokenizer"
      ],
      "execution_count": null,
      "outputs": []
    },
    {
      "cell_type": "code",
      "metadata": {
        "colab": {
          "base_uri": "https://localhost:8080/"
        },
        "id": "6et606l4rnBF",
        "outputId": "e281fec7-f1f8-49a6-f1f5-c6a6df4d46b4"
      },
      "source": [
        "movie_reviews = pd.read_csv(\"/content/drive/MyDrive/ML Projects/Text Analysis/IMDB Dataset.csv\")\n",
        "movie_reviews.shape"
      ],
      "execution_count": null,
      "outputs": [
        {
          "output_type": "execute_result",
          "data": {
            "text/plain": [
              "(50000, 2)"
            ]
          },
          "metadata": {},
          "execution_count": 2
        }
      ]
    },
    {
      "cell_type": "code",
      "metadata": {
        "id": "KkVWdkcUrr0Y"
      },
      "source": [
        "def preprocess_text(sen):\n",
        "    sentence = remove_tags(sen)\n",
        "    sentence = re.sub('[^a-zA-Z]',' ',sentence)\n",
        "    sentence = re.sub(r\"\\s+[a-zA-Z]\\s+\",' ',sentence)\n",
        "    sentence = re.sub(r'\\s+',' ',sentence)\n",
        "    return sentence\n",
        "\n",
        "TAG_RE = re.compile(r'<[^>]+>')\n",
        "\n",
        "def remove_tags(text):\n",
        "    return TAG_RE.sub('',text)"
      ],
      "execution_count": null,
      "outputs": []
    },
    {
      "cell_type": "code",
      "metadata": {
        "id": "mu2ZArKprvOx"
      },
      "source": [
        "X = []\n",
        "sentences = list(movie_reviews['review'])\n",
        "for sen in sentences:\n",
        "    X.append(preprocess_text(sen))\n",
        "\n",
        "Y = movie_reviews['sentiment']\n",
        "Y = np.array(list(map(lambda x : 1 if x=='positive' else 0,Y)))"
      ],
      "execution_count": null,
      "outputs": []
    },
    {
      "cell_type": "code",
      "metadata": {
        "id": "j_KoBAgWrz57"
      },
      "source": [
        "X_train, X_test , Y_train , Y_test = train_test_split(X,Y,test_size = 0.15)"
      ],
      "execution_count": null,
      "outputs": []
    },
    {
      "cell_type": "code",
      "metadata": {
        "colab": {
          "base_uri": "https://localhost:8080/"
        },
        "id": "YWe4SFOUr2K2",
        "outputId": "1d382fb7-b337-4f28-84d6-b9eff71f30be"
      },
      "source": [
        "tokenizer = Tokenizer()\n",
        "tokenizer.fit_on_texts(X_train)\n",
        "\n",
        "X_train = tokenizer.texts_to_sequences(X_train)\n",
        "X_test = tokenizer.texts_to_sequences(X_test)\n",
        "\n",
        "type(X_train)"
      ],
      "execution_count": null,
      "outputs": [
        {
          "output_type": "execute_result",
          "data": {
            "text/plain": [
              "list"
            ]
          },
          "metadata": {},
          "execution_count": 40
        }
      ]
    },
    {
      "cell_type": "code",
      "metadata": {
        "colab": {
          "base_uri": "https://localhost:8080/"
        },
        "id": "_udqTPmkr5Js",
        "outputId": "6c201ff9-4c31-4bd5-ee1e-cbec9fc135bb"
      },
      "source": [
        "!wget http://nlp.stanford.edu/data/glove.6B.zip\n",
        "!unzip -q glove.6B.zip"
      ],
      "execution_count": null,
      "outputs": [
        {
          "output_type": "stream",
          "name": "stdout",
          "text": [
            "--2021-09-23 05:02:01--  http://nlp.stanford.edu/data/glove.6B.zip\n",
            "Resolving nlp.stanford.edu (nlp.stanford.edu)... 171.64.67.140\n",
            "Connecting to nlp.stanford.edu (nlp.stanford.edu)|171.64.67.140|:80... connected.\n",
            "HTTP request sent, awaiting response... 302 Found\n",
            "Location: https://nlp.stanford.edu/data/glove.6B.zip [following]\n",
            "--2021-09-23 05:02:01--  https://nlp.stanford.edu/data/glove.6B.zip\n",
            "Connecting to nlp.stanford.edu (nlp.stanford.edu)|171.64.67.140|:443... connected.\n",
            "HTTP request sent, awaiting response... 301 Moved Permanently\n",
            "Location: http://downloads.cs.stanford.edu/nlp/data/glove.6B.zip [following]\n",
            "--2021-09-23 05:02:02--  http://downloads.cs.stanford.edu/nlp/data/glove.6B.zip\n",
            "Resolving downloads.cs.stanford.edu (downloads.cs.stanford.edu)... 171.64.64.22\n",
            "Connecting to downloads.cs.stanford.edu (downloads.cs.stanford.edu)|171.64.64.22|:80... connected.\n",
            "HTTP request sent, awaiting response... 200 OK\n",
            "Length: 862182613 (822M) [application/zip]\n",
            "Saving to: ‘glove.6B.zip’\n",
            "\n",
            "glove.6B.zip        100%[===================>] 822.24M  5.17MB/s    in 2m 40s  \n",
            "\n",
            "2021-09-23 05:04:41 (5.15 MB/s) - ‘glove.6B.zip’ saved [862182613/862182613]\n",
            "\n"
          ]
        }
      ]
    },
    {
      "cell_type": "code",
      "metadata": {
        "colab": {
          "base_uri": "https://localhost:8080/"
        },
        "id": "cPR7MyNsr9ML",
        "outputId": "333ff805-c21f-4d34-9a05-2f82553020eb"
      },
      "source": [
        "import os\n",
        "path_to_glove_file = os.path.join(os.path.expanduser(\"~\"), \"/content/glove.6B.300d.txt\")\n",
        "\n",
        "embeddings_index = {}\n",
        "with open(path_to_glove_file) as f:\n",
        "    for line in f:\n",
        "        word, coefs = line.split(maxsplit=1)\n",
        "        coefs = np.fromstring(coefs, \"f\", sep=\" \")\n",
        "        embeddings_index[word] = coefs\n",
        "\n",
        "print(\"Found %s word vectors.\" % len(embeddings_index))\n"
      ],
      "execution_count": null,
      "outputs": [
        {
          "output_type": "stream",
          "name": "stdout",
          "text": [
            "Found 400000 word vectors.\n"
          ]
        }
      ]
    },
    {
      "cell_type": "code",
      "metadata": {
        "id": "Xvv1g2JtsCs7"
      },
      "source": [
        "vocab_size = len(tokenizer.word_index)+1\n",
        "word_index = tokenizer.word_index\n",
        "X_train = pad_sequences(X_train,padding = 'pre',maxlen = 300)\n",
        "X_test = pad_sequences(X_test,padding = 'pre',maxlen = 300)"
      ],
      "execution_count": null,
      "outputs": []
    },
    {
      "cell_type": "code",
      "metadata": {
        "colab": {
          "base_uri": "https://localhost:8080/"
        },
        "id": "4mRxaOzssECT",
        "outputId": "d3d323b0-7705-4203-e4de-fe888ca61c3a"
      },
      "source": [
        "num_tokens = vocab_size + 1\n",
        "embedding_dim = 300\n",
        "hits = 0\n",
        "misses = 0\n",
        "\n",
        "# Prepare embedding matrix\n",
        "embedding_matrix = np.zeros((num_tokens, embedding_dim))\n",
        "for word, i in word_index.items():\n",
        "    embedding_vector = embeddings_index.get(word)\n",
        "    if embedding_vector is not None:\n",
        "        # Words not found in embedding index will be all-zeros.\n",
        "        # This includes the representation for \"padding\" and \"OOV\"\n",
        "        embedding_matrix[i] = embedding_vector\n",
        "        hits += 1\n",
        "    else:\n",
        "        misses += 1\n",
        "print(\"Converted %d words (%d misses)\" % (hits, misses))\n",
        "\n",
        "embedding_layer = Embedding(num_tokens,embedding_dim,embeddings_initializer=tf.keras.initializers.Constant(embedding_matrix),trainable=False)"
      ],
      "execution_count": null,
      "outputs": [
        {
          "output_type": "stream",
          "name": "stdout",
          "text": [
            "Converted 71291 words (23696 misses)\n"
          ]
        }
      ]
    },
    {
      "cell_type": "code",
      "metadata": {
        "colab": {
          "base_uri": "https://localhost:8080/",
          "height": 53
        },
        "id": "Zs5_wSrusHc7",
        "outputId": "fb65fd8c-f695-4fbc-f973-35651ed37dc3"
      },
      "source": [
        "inputs = tf.keras.Input(shape=(None,))\n",
        "X = embedding_layer(inputs)\n",
        "X = tf.keras.layers.LSTM(200,return_sequences=True)(X)\n",
        "X = tf.keras.layers.LSTM(200,return_sequences=True)(X)\n",
        "#X = tf.keras.layers.LSTM(200,return_sequences=True)(X)\n",
        "X = tf.keras.layers.LSTM(200)(X)\n",
        "X = Dense(1,activation = 'sigmoid')(X)\n",
        "model = Model(inputs=inputs,outputs=X)\n",
        "'''\n",
        "model = Sequential()\n",
        "model.add(embedding_layer)\n",
        "model.add(LSTM(200,return_sequences=True,dropout=0.3))\n",
        "model.add(LSTM(200,return_sequences=True,dropout=0.3))\n",
        "model.add(LSTM(200,return_sequences=False,dropout=0.3))\n",
        "model.add(Dense(1,activation ='sigmoid'))\n",
        "'''"
      ],
      "execution_count": null,
      "outputs": [
        {
          "output_type": "execute_result",
          "data": {
            "application/vnd.google.colaboratory.intrinsic+json": {
              "type": "string"
            },
            "text/plain": [
              "\"\\nmodel = Sequential()\\nmodel.add(embedding_layer)\\nmodel.add(LSTM(200,return_sequences=True,dropout=0.3))\\nmodel.add(LSTM(200,return_sequences=True,dropout=0.3))\\nmodel.add(LSTM(200,return_sequences=False,dropout=0.3))\\nmodel.add(Dense(1,activation ='sigmoid'))\\n\""
            ]
          },
          "metadata": {},
          "execution_count": 43
        }
      ]
    },
    {
      "cell_type": "code",
      "metadata": {
        "colab": {
          "base_uri": "https://localhost:8080/"
        },
        "id": "dUtun6GpsRdq",
        "outputId": "cbe56aad-504a-46ac-f119-51a3273efe00"
      },
      "source": [
        "model.compile(optimizer='adam',loss='binary_crossentropy',metrics=['accuracy'])\n",
        "model.summary()"
      ],
      "execution_count": null,
      "outputs": [
        {
          "output_type": "stream",
          "name": "stdout",
          "text": [
            "Model: \"model_1\"\n",
            "_________________________________________________________________\n",
            "Layer (type)                 Output Shape              Param #   \n",
            "=================================================================\n",
            "input_2 (InputLayer)         [(None, None)]            0         \n",
            "_________________________________________________________________\n",
            "embedding_1 (Embedding)      (None, None, 300)         28496700  \n",
            "_________________________________________________________________\n",
            "lstm_4 (LSTM)                (None, None, 200)         400800    \n",
            "_________________________________________________________________\n",
            "lstm_5 (LSTM)                (None, None, 200)         320800    \n",
            "_________________________________________________________________\n",
            "lstm_6 (LSTM)                (None, 200)               320800    \n",
            "_________________________________________________________________\n",
            "dense_1 (Dense)              (None, 1)                 201       \n",
            "=================================================================\n",
            "Total params: 29,539,301\n",
            "Trainable params: 1,042,601\n",
            "Non-trainable params: 28,496,700\n",
            "_________________________________________________________________\n"
          ]
        }
      ]
    },
    {
      "cell_type": "code",
      "metadata": {
        "colab": {
          "base_uri": "https://localhost:8080/"
        },
        "id": "Y_CyOSuZFoWB",
        "outputId": "65798ea3-aece-4c52-9b6c-4471b5c34a56"
      },
      "source": [
        "#X_train=np.array(X_train)\n",
        "#Y_train = np.array(Y_train)\n",
        "len(X_train[0])"
      ],
      "execution_count": null,
      "outputs": [
        {
          "output_type": "execute_result",
          "data": {
            "text/plain": [
              "300"
            ]
          },
          "metadata": {},
          "execution_count": 45
        }
      ]
    },
    {
      "cell_type": "code",
      "metadata": {
        "colab": {
          "base_uri": "https://localhost:8080/"
        },
        "id": "mrhtgbdYsSPJ",
        "outputId": "f7b11c17-8111-488f-c78b-b2d67070c6ed"
      },
      "source": [
        "history = model.fit(X_train,Y_train,batch_size=32,epochs=10)"
      ],
      "execution_count": null,
      "outputs": [
        {
          "output_type": "stream",
          "name": "stdout",
          "text": [
            "Epoch 1/10\n",
            "1329/1329 [==============================] - 278s 209ms/step - loss: 0.0174 - accuracy: 0.9942\n",
            "Epoch 2/10\n",
            "1329/1329 [==============================] - 276s 208ms/step - loss: 0.0152 - accuracy: 0.9949\n",
            "Epoch 3/10\n",
            "1329/1329 [==============================] - 277s 208ms/step - loss: 0.0145 - accuracy: 0.9957\n",
            "Epoch 4/10\n",
            "1329/1329 [==============================] - 278s 209ms/step - loss: 0.0200 - accuracy: 0.9942\n",
            "Epoch 5/10\n",
            "1329/1329 [==============================] - 278s 209ms/step - loss: 0.0162 - accuracy: 0.9948\n",
            "Epoch 6/10\n",
            "1329/1329 [==============================] - 278s 209ms/step - loss: 0.0164 - accuracy: 0.9943\n",
            "Epoch 7/10\n",
            "1329/1329 [==============================] - 278s 209ms/step - loss: 0.0132 - accuracy: 0.9957\n",
            "Epoch 8/10\n",
            "1329/1329 [==============================] - 278s 209ms/step - loss: 0.0183 - accuracy: 0.9941\n",
            "Epoch 9/10\n",
            "1329/1329 [==============================] - 278s 209ms/step - loss: 0.0117 - accuracy: 0.9962\n",
            "Epoch 10/10\n",
            "1329/1329 [==============================] - 276s 208ms/step - loss: 0.0124 - accuracy: 0.9956\n"
          ]
        }
      ]
    },
    {
      "cell_type": "code",
      "metadata": {
        "colab": {
          "base_uri": "https://localhost:8080/"
        },
        "id": "nZ82foipxAph",
        "outputId": "8aab0646-4481-4e9f-ea77-f35dce70136f"
      },
      "source": [
        "model.evaluate(X_test,Y_test)"
      ],
      "execution_count": null,
      "outputs": [
        {
          "output_type": "stream",
          "name": "stdout",
          "text": [
            "235/235 [==============================] - 24s 102ms/step - loss: 0.8252 - accuracy: 0.8572\n"
          ]
        },
        {
          "output_type": "execute_result",
          "data": {
            "text/plain": [
              "[0.8252442479133606, 0.857200026512146]"
            ]
          },
          "metadata": {},
          "execution_count": 49
        }
      ]
    },
    {
      "cell_type": "code",
      "metadata": {
        "colab": {
          "base_uri": "https://localhost:8080/"
        },
        "id": "mCPg22MIfYym",
        "outputId": "65465b95-3c16-4edd-9e0e-a6c970348fc3"
      },
      "source": [
        "tf.keras.models.save_model(model,\"/content/drive/MyDrive/Text Analysis /\")"
      ],
      "execution_count": null,
      "outputs": [
        {
          "output_type": "stream",
          "name": "stderr",
          "text": [
            "WARNING:absl:Found untraced functions such as lstm_cell_27_layer_call_and_return_conditional_losses, lstm_cell_27_layer_call_fn, lstm_cell_28_layer_call_and_return_conditional_losses, lstm_cell_28_layer_call_fn, lstm_cell_27_layer_call_fn while saving (showing 5 of 10). These functions will not be directly callable after loading.\n"
          ]
        },
        {
          "output_type": "stream",
          "name": "stdout",
          "text": [
            "INFO:tensorflow:Assets written to: /content/drive/MyDrive/Text Analysis /assets\n"
          ]
        },
        {
          "output_type": "stream",
          "name": "stderr",
          "text": [
            "INFO:tensorflow:Assets written to: /content/drive/MyDrive/Text Analysis /assets\n"
          ]
        }
      ]
    },
    {
      "cell_type": "code",
      "metadata": {
        "id": "To1HEgoxft_J"
      },
      "source": [
        "import pickle\n",
        "\n",
        "# saving\n",
        "with open('tokenizer.pickle', 'wb') as handle:\n",
        "    pickle.dump(tokenizer, handle, protocol=pickle.HIGHEST_PROTOCOL)"
      ],
      "execution_count": null,
      "outputs": []
    },
    {
      "cell_type": "code",
      "metadata": {
        "id": "oQaf7ukvgKHU"
      },
      "source": [
        "model = tf.keras.models.load_model(\"/content/drive/MyDrive/Text Analysis /\")\n",
        "    "
      ],
      "execution_count": null,
      "outputs": []
    },
    {
      "cell_type": "code",
      "metadata": {
        "id": "OswaWrVViepk"
      },
      "source": [
        "import pickle\n",
        "with open(\"/content/drive/MyDrive/Text Analysis /tokenizer.pickle\", 'rb') as handle:\n",
        "    tokenizer = pickle.load(handle)"
      ],
      "execution_count": null,
      "outputs": []
    },
    {
      "cell_type": "code",
      "metadata": {
        "id": "z-U_bbd9Xhgw"
      },
      "source": [
        "text = str(input(\"Enter comment : \"))\n",
        "text = preprocess_text(text)\n",
        "text = [text.split(\" \")]\n",
        "text = tokenizer.texts_to_sequences(text)\n",
        "text = pad_sequences(text)\n",
        "prediction=model.predict(text)\n",
        "value = prediction[0][0]\n",
        "print(\"\\nSigmoid output value : \",value)\n",
        "prediction = prediction<0.5\n",
        "if prediction[0][0]==True:\n",
        "    print(\"\\nPredicted sentiment of the comment : Negative Comment\")\n",
        "else:\n",
        "    print(\"\\nPredicted sentiment of the comment : Positive Comment\")"
      ],
      "execution_count": null,
      "outputs": []
    },
    {
      "cell_type": "code",
      "metadata": {
        "colab": {
          "base_uri": "https://localhost:8080/",
          "height": 283
        },
        "id": "k9UIJcK7lMV6",
        "outputId": "1e83f20f-fafc-44c2-dafe-0138e6165f78"
      },
      "source": [
        "import matplotlib.pyplot as plt\n",
        "\n",
        "loss = history.history['loss']\n",
        "plt.plot(loss)"
      ],
      "execution_count": null,
      "outputs": [
        {
          "output_type": "execute_result",
          "data": {
            "text/plain": [
              "[<matplotlib.lines.Line2D at 0x7f23b4bc2e50>]"
            ]
          },
          "metadata": {},
          "execution_count": 142
        },
        {
          "output_type": "display_data",
          "data": {
            "image/png": "[encoded data removed]",
            "text/plain": [
              "<Figure size 432x288 with 1 Axes>"
            ]
          },
          "metadata": {
            "needs_background": "light"
          }
        }
      ]
    },
    {
      "cell_type": "code",
      "metadata": {
        "id": "CxDdRs_ss-TN",
        "colab": {
          "base_uri": "https://localhost:8080/",
          "height": 166
        },
        "outputId": "51e6595a-80bf-4a07-d1ef-d38183bf3253"
      },
      "source": [
        "pickle.dump(model,open(\"model.pkl\",'wb'))"
      ],
      "execution_count": null,
      "outputs": [
        {
          "output_type": "error",
          "ename": "AttributeError",
          "evalue": "ignored",
          "traceback": [
            "\u001b[0;31m---------------------------------------------------------------------------\u001b[0m",
            "\u001b[0;31mAttributeError\u001b[0m                            Traceback (most recent call last)",
            "\u001b[0;32m<ipython-input-23-6202d0e8d24d>\u001b[0m in \u001b[0;36m<module>\u001b[0;34m()\u001b[0m\n\u001b[0;32m----> 1\u001b[0;31m \u001b[0mpickle\u001b[0m\u001b[0;34m.\u001b[0m\u001b[0mdump\u001b[0m\u001b[0;34m(\u001b[0m\u001b[0mmodel\u001b[0m\u001b[0;34m,\u001b[0m\u001b[0mopen\u001b[0m\u001b[0;34m(\u001b[0m\u001b[0;34m\"model.pkl\"\u001b[0m\u001b[0;34m,\u001b[0m\u001b[0;34m'wb'\u001b[0m\u001b[0;34m)\u001b[0m\u001b[0;34m)\u001b[0m\u001b[0;34m\u001b[0m\u001b[0;34m\u001b[0m\u001b[0m\n\u001b[0m",
            "\u001b[0;31mAttributeError\u001b[0m: Can't pickle local object 'Loader._recreate_base_user_object.<locals>._UserObject'"
          ]
        }
      ]
    },
    {
      "cell_type": "code",
      "metadata": {
        "id": "tCTJxQLsCTLE",
        "colab": {
          "base_uri": "https://localhost:8080/"
        },
        "outputId": "b42d792e-ee4f-4a75-fef4-d4fc98b6d889"
      },
      "source": [
        "!kaggle competitions download -c twitter-sentiment-analysis2"
      ],
      "execution_count": null,
      "outputs": [
        {
          "output_type": "stream",
          "name": "stdout",
          "text": [
            "Traceback (most recent call last):\n",
            "  File \"/usr/local/bin/kaggle\", line 5, in <module>\n",
            "    from kaggle.cli import main\n",
            "  File \"/usr/local/lib/python2.7/dist-packages/kaggle/__init__.py\", line 23, in <module>\n",
            "    api.authenticate()\n",
            "  File \"/usr/local/lib/python2.7/dist-packages/kaggle/api/kaggle_api_extended.py\", line 146, in authenticate\n",
            "    self.config_file, self.config_dir))\n",
            "IOError: Could not find kaggle.json. Make sure it's located in /root/.kaggle. Or use the environment method.\n"
          ]
        }
      ]
    },
    {
      "cell_type": "code",
      "metadata": {
        "id": "saZ-I_Rc1T-R"
      },
      "source": [],
      "execution_count": null,
      "outputs": []
    }
  ]
}